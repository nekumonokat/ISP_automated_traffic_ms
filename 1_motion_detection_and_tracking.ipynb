{
 "cells": [
  {
   "cell_type": "markdown",
   "id": "1e1045f1",
   "metadata": {},
   "source": [
    "# Ex 1.1 Motion Detection & Tracking\n",
    "This task focuses on developing an application to detect and track moving cars from a camera recording. The algorithm of the application is based on the frame differencing and background subtraction techniques. The application will only focus on detecting cars that are in the \"Main street\"."
   ]
  },
  {
   "cell_type": "code",
   "execution_count": 1,
   "id": "a6c234d8",
   "metadata": {},
   "outputs": [],
   "source": [
    "# IMPORTING LIBRARIES FOR PROJECT\n",
    "import cv2\n",
    "import numpy as np"
   ]
  },
  {
   "cell_type": "markdown",
   "id": "0a8d0109",
   "metadata": {},
   "source": [
    "The traffic video ```Traffic_Laramie_1.mp4``` is loaded for verifying results."
   ]
  },
  {
   "cell_type": "code",
   "execution_count": 2,
   "id": "341a05d2",
   "metadata": {},
   "outputs": [
    {
     "name": "stdout",
     "output_type": "stream",
     "text": [
      "Successfully opened video.\n"
     ]
    }
   ],
   "source": [
    "# loading the video file\n",
    "vid_path = \"media/Traffic_Laramie_1.mp4\"\n",
    "capture = cv2.VideoCapture(vid_path)\n",
    "\n",
    "# checking if video is opened successfully\n",
    "if not capture.isOpened(): print(\"Error: Could not open video.\")\n",
    "else: print(\"Successfully opened video.\")"
   ]
  },
  {
   "cell_type": "markdown",
   "id": "49632266",
   "metadata": {},
   "source": [
    "OpenCV will be used to implement the background subtraction in the algorithm.\n",
    "\n",
    "This project will use the updated ```createBackgroundSubtractorMOG2()```\n",
    "- ```history``` is the length of the history\n",
    "- ```varThreshold``` is the threshold on the squared Mahalanobis distance between the pixel and the model to decide whether a pixel is well described by the background model\n",
    "- ```detectShadows``` checks for shadows and marks them\n",
    "\n",
    "The base values are used, and will be modified to better detect the cars."
   ]
  },
  {
   "cell_type": "code",
   "execution_count": 3,
   "id": "cdd13077",
   "metadata": {},
   "outputs": [],
   "source": [
    "background_sub = cv2.createBackgroundSubtractorMOG2( history = 500,\n",
    "                                                     varThreshold = 50,\n",
    "                                                     detectShadows = True )"
   ]
  },
  {
   "cell_type": "markdown",
   "id": "0a539248",
   "metadata": {},
   "source": [
    "Now, the algorithm will read the input video frame-by-frame, and apply background subtraction to extract the moving objects. Morphological operations will be done to clean the mask, and the algorithm will detect contours to find moving cars. This is then displayed by drawing a bounding box around detected cars.\n",
    "\n",
    "Note that because this project focuses on motion tracking, the frames will be converted to grayscale to help simplify preprocessing when conducting Background Subtraction using OpenCV."
   ]
  },
  {
   "cell_type": "code",
   "execution_count": 4,
   "id": "de737e10",
   "metadata": {},
   "outputs": [],
   "source": [
    "while True:\n",
    "    check, img = capture.read()\n",
    "    if not check:\n",
    "        break # stop if end of video\n",
    "        \n",
    "    # converting to grayscale\n",
    "    gray = cv2.cvtColor(img, cv2.COLOR_BGR2GRAY)\n",
    "    # applying background subtraction\n",
    "    fg_mask = background_sub.apply(gray)\n",
    "    \n",
    "    # applying thresholding to clean up noise\n",
    "    threshold_mask = cv2.threshold(fg_mask, 150, 255, cv2.THRESH_BINARY)[1]\n",
    "    # finding contours to detect moving objects\n",
    "    contours = cv2.findContours(threshold_mask, cv2.RETR_EXTERNAL, cv2.CHAIN_APPROX_SIMPLE)[0]\n",
    "    \n",
    "    for c in contours:\n",
    "        # contourArea() filters out small contours\n",
    "        if cv2.contourArea(c) < 1000:\n",
    "            continue\n",
    "        \n",
    "        # drawing bounding box around detected cars\n",
    "        x, y, w, h = cv2.boundingRect(c)\n",
    "        cv2.rectangle(img, (x, y), (x + w, y + h), (0, 255, 0), 2)\n",
    "    \n",
    "    # displaying the results\n",
    "    cv2.imshow(\"Traffic Video\", img)\n",
    "    # cv2.imshow(\"Foreground Mask\", fg_mask)\n",
    "    # cv2.imshow(\"Threshold Mask\", threshold_mask)\n",
    "    \n",
    "    # exiting the loop\n",
    "    key = cv2.waitKey(1)\n",
    "    # using \"q\" key to exit\n",
    "    if key == ord(\"q\"):\n",
    "        break\n",
    "\n",
    "# after the loop, release the video object\n",
    "capture.release()\n",
    "# destroy all windows\n",
    "cv2.destroyAllWindows()"
   ]
  }
 ],
 "metadata": {
  "kernelspec": {
   "display_name": "Python 3 (ipykernel)",
   "language": "python",
   "name": "python3"
  },
  "language_info": {
   "codemirror_mode": {
    "name": "ipython",
    "version": 3
   },
   "file_extension": ".py",
   "mimetype": "text/x-python",
   "name": "python",
   "nbconvert_exporter": "python",
   "pygments_lexer": "ipython3",
   "version": "3.11.4"
  }
 },
 "nbformat": 4,
 "nbformat_minor": 5
}
