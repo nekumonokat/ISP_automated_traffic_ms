{
 "cells": [
  {
   "cell_type": "markdown",
   "id": "1e1045f1",
   "metadata": {},
   "source": [
    "# Ex 1.1 Motion Detection & Tracking\n",
    "This task focuses on developing an application to detect and track moving cars from a camera recording. The algorithm of the application is based on the frame differencing and background subtraction techniques. The application will only focus on detecting cars that are in the \"Main street\"."
   ]
  },
  {
   "cell_type": "code",
   "execution_count": 1,
   "id": "a6c234d8",
   "metadata": {},
   "outputs": [],
   "source": [
    "# IMPORTING LIBRARIES FOR PROJECT\n",
    "import cv2\n",
    "import numpy as np"
   ]
  },
  {
   "cell_type": "markdown",
   "id": "0a8d0109",
   "metadata": {},
   "source": [
    "The traffic video ```Traffic_Laramie_1.mp4``` is loaded for verifying results."
   ]
  },
  {
   "cell_type": "code",
   "execution_count": 2,
   "id": "341a05d2",
   "metadata": {},
   "outputs": [
    {
     "name": "stdout",
     "output_type": "stream",
     "text": [
      "Successfully opened video.\n"
     ]
    }
   ],
   "source": [
    "# loading the video file\n",
    "vid_path = \"media/Traffic_Laramie_1.mp4\"\n",
    "capture = cv2.VideoCapture(vid_path)\n",
    "\n",
    "# checking if video is opened successfully\n",
    "if not capture.isOpened(): print(\"Error: Could not open video.\")\n",
    "else: print(\"Successfully opened video.\")"
   ]
  },
  {
   "cell_type": "markdown",
   "id": "49632266",
   "metadata": {},
   "source": [
    "OpenCV will be used to implement the background subtraction in the algorithm.\n",
    "\n",
    "This project will use the updated ```createBackgroundSubtractorMOG2()```\n",
    "- ```history``` is the length of the history\n",
    "- ```varThreshold``` is the threshold on the squared Mahalanobis distance between the pixel and the model to decide whether a pixel is well described by the background model\n",
    "- ```detectShadows``` checks for shadows and marks them\n",
    "\n",
    "The base values are used, and will be modified to better detect the cars."
   ]
  },
  {
   "cell_type": "code",
   "execution_count": 3,
   "id": "cdd13077",
   "metadata": {},
   "outputs": [],
   "source": [
    "# creating an instance of Gaussian Mixture-based background subtraction\n",
    "background_sub = cv2.createBackgroundSubtractorMOG2( history = 500,\n",
    "                                                     varThreshold = 50,\n",
    "                                                     detectShadows = True )"
   ]
  },
  {
   "cell_type": "markdown",
   "id": "0a539248",
   "metadata": {},
   "source": [
    "Now, the algorithm will read the input video frame-by-frame, and apply background subtraction to extract the moving objects. Morphological operations will be done to clean the mask, and the algorithm will detect contours to find moving cars. This is then displayed by drawing a bounding box around detected cars.\n",
    "\n",
    "To ensure that only vehicles are detected, the proportion of height to width will be checked. Since vehicles have a larger width than height, this would easily rule out detected human movement. This works since we are only focusing on the main street, so all cars will have a larger width ratio in comparison with height.\n",
    "\n",
    "After displaying the results, it is recognised that the movement detection tends to be very fragmented. As such, adding ```cv2.dilate()``` ensures that it expands white areas in the detected objects to help connect broken parts of a vehicle. ```cv2.erode()``` is then used to remove small noise and false detections. This refines the object's boundaries."
   ]
  },
  {
   "cell_type": "code",
   "execution_count": 4,
   "id": "a38115ef",
   "metadata": {},
   "outputs": [],
   "source": [
    "# defining main street region of interest (ROI)\n",
    "roi_top_left = (0, 250)\n",
    "roi_bot_right = (1040, 600)\n",
    "\n",
    "while True:\n",
    "    check, img = capture.read()\n",
    "    if not check: break # stop if end of video\n",
    "        \n",
    "    # applying background subtraction\n",
    "    fg_mask = background_sub.apply(img)\n",
    "    # dilating white areas of detected object\n",
    "    fg_mask = cv2.dilate(fg_mask, None, 20)\n",
    "    # shrinking white areas in binary mask\n",
    "    fg_mask = cv2.erode(fg_mask, None, 15)\n",
    "\n",
    "    # applying thresholding to clean up noise\n",
    "    threshold_mask = cv2.threshold(fg_mask, 150, 255, cv2.THRESH_BINARY)[1]\n",
    "    \n",
    "    # applying ROI (main street)\n",
    "    roi = np.zeros_like(threshold_mask)\n",
    "    cv2.rectangle(roi, roi_top_left, roi_bot_right, 255, thickness = -1)\n",
    "    threshold_mask = cv2.bitwise_and(threshold_mask, roi)\n",
    "    \n",
    "    # finding contours to detect moving objects\n",
    "    contours = cv2.findContours(threshold_mask, cv2.RETR_EXTERNAL, cv2.CHAIN_APPROX_SIMPLE)[0]\n",
    "    \n",
    "    for c in contours:\n",
    "        # drawing bounding box around detected cars\n",
    "        x, y, w, h = cv2.boundingRect(c)\n",
    "        # filtering out human shapes or small contours\n",
    "        if (h/w > 1.3) | (cv2.contourArea(c) < 1100): continue\n",
    "        # drawing separate bounding boxes for each car\n",
    "        cv2.rectangle(img, (x, y), (x + w, y + h), (0, 255, 0), 2)\n",
    "    \n",
    "    # draw ROI rectangle on original frame\n",
    "    cv2.rectangle(img, roi_top_left, roi_bot_right, (0, 0, 255), 2)\n",
    "    \n",
    "    # displaying the results\n",
    "    cv2.imshow(\"Traffic Video\", img)\n",
    "    \n",
    "    # exiting the loop\n",
    "    key = cv2.waitKey(1)\n",
    "    # using \"q\" key to exit\n",
    "    if key == ord(\"q\"):\n",
    "        break\n",
    "\n",
    "# after the loop, release the video object\n",
    "capture.release()\n",
    "# destroy all windows\n",
    "cv2.destroyAllWindows()"
   ]
  }
 ],
 "metadata": {
  "kernelspec": {
   "display_name": "Python 3 (ipykernel)",
   "language": "python",
   "name": "python3"
  },
  "language_info": {
   "codemirror_mode": {
    "name": "ipython",
    "version": 3
   },
   "file_extension": ".py",
   "mimetype": "text/x-python",
   "name": "python",
   "nbconvert_exporter": "python",
   "pygments_lexer": "ipython3",
   "version": "3.11.4"
  }
 },
 "nbformat": 4,
 "nbformat_minor": 5
}
