{
 "cells": [
  {
   "cell_type": "markdown",
   "id": "6ca645ff",
   "metadata": {},
   "source": [
    "# Ex 1.2 Counting Cars\n",
    "This task focuses on developing a computer vision application for counting the number of cars going from the city's downtown to the city centre in peak hours. It will be a progression to task 1.1 which uses the OpenCV library, and is based on frame differencing and background subtraction techniques. The project focuses on detecting cars that are in the \"Main street\"."
   ]
  },
  {
   "cell_type": "code",
   "execution_count": 1,
   "id": "27bb3b7d",
   "metadata": {},
   "outputs": [],
   "source": [
    "import sys\n",
    "import cv2"
   ]
  },
  {
   "cell_type": "code",
   "execution_count": 4,
   "id": "74061964",
   "metadata": {},
   "outputs": [
    {
     "name": "stdout",
     "output_type": "stream",
     "text": [
      "Successfully opened video 1.\n",
      "Successfully opened video 2.\n"
     ]
    }
   ],
   "source": [
    "# creating an instance of K-nearest neighbours background subtraction\n",
    "background_sub = cv2.createBackgroundSubtractorMOG2( history = 500,\n",
    "                                                     varThreshold = 50,\n",
    "                                                     detectShadows = True )\n",
    "\n",
    "# loading the video file\n",
    "vid_path1, vid_path2 = \"media/Traffic_Laramie_1.mp4\", \"media/Traffic_Laramie_2.mp4\"\n",
    "capture1 = cv2.VideoCapture(vid_path1)\n",
    "capture2 = cv2.VideoCapture(vid_path2)\n",
    "\n",
    "# checking if video 1 is opened successfully\n",
    "if not capture1.isOpened(): print(\"Error: Could not open video 1.\")\n",
    "else: print(\"Successfully opened video 1.\")\n",
    "# checking if video 2 is opened successfully\n",
    "if not capture2.isOpened(): print(\"Error: Could not open video 2.\")\n",
    "else: print(\"Successfully opened video 2.\")"
   ]
  },
  {
   "cell_type": "code",
   "execution_count": null,
   "id": "86040068",
   "metadata": {},
   "outputs": [],
   "source": []
  }
 ],
 "metadata": {
  "kernelspec": {
   "display_name": "Python 3 (ipykernel)",
   "language": "python",
   "name": "python3"
  },
  "language_info": {
   "codemirror_mode": {
    "name": "ipython",
    "version": 3
   },
   "file_extension": ".py",
   "mimetype": "text/x-python",
   "name": "python",
   "nbconvert_exporter": "python",
   "pygments_lexer": "ipython3",
   "version": "3.11.4"
  }
 },
 "nbformat": 4,
 "nbformat_minor": 5
}
