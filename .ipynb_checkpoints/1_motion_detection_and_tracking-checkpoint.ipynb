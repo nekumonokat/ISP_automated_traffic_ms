{
 "cells": [
  {
   "cell_type": "markdown",
   "id": "1e1045f1",
   "metadata": {},
   "source": [
    "# Ex 1.1 Motion Detection & Tracking\n",
    "This task focuses on developing an application to detect and track moving cars from a camera recording. The algorithm of the application is based on the frame differencing and background subtraction techniques. The application will only focus on detecting cars that are in the \"Main street\"."
   ]
  },
  {
   "cell_type": "code",
   "execution_count": 8,
   "id": "a6c234d8",
   "metadata": {},
   "outputs": [],
   "source": [
    "# IMPORTING LIBRARIES FOR PROJECT\n",
    "import cv2\n",
    "import numpy as np"
   ]
  },
  {
   "cell_type": "markdown",
   "id": "0a8d0109",
   "metadata": {},
   "source": [
    "The traffic video ```Traffic_Laramie_1.mp4``` is loaded for verifying results."
   ]
  },
  {
   "cell_type": "code",
   "execution_count": 9,
   "id": "341a05d2",
   "metadata": {},
   "outputs": [
    {
     "name": "stdout",
     "output_type": "stream",
     "text": [
      "Successfully opened video.\n"
     ]
    }
   ],
   "source": [
    "# loading the video file\n",
    "vid_path = \"media/Traffic_Laramie_1.mp4\"\n",
    "capture = cv2.VideoCapture(vid_path)\n",
    "\n",
    "# checking if video is opened successfully\n",
    "if not capture.isOpened(): print(\"Error: Could not open video.\")\n",
    "else: print(\"Successfully opened video.\")"
   ]
  },
  {
   "cell_type": "markdown",
   "id": "8da06787",
   "metadata": {},
   "source": [
    "OpenCV will be used to implement the background subtraction in the algorithm.\n",
    "\n",
    "This project will use the updated ```createBackgroundSubtractorMOG2()```\n",
    "- ```history``` is the length of the history\n",
    "- ```varThreshold``` is the threshold on the squared Mahalanobis distance between the pixel and the model to decide whether a pixel is well described by the background model\n",
    "- ```detectShadows``` checks for shadows and marks them\n",
    "\n",
    "The base values are used, and will be modified to better detect the cars."
   ]
  },
  {
   "cell_type": "code",
   "execution_count": 10,
   "id": "014d48ce",
   "metadata": {},
   "outputs": [],
   "source": [
    "background_sub = cv2.createBackgroundSubtractorMOG2( history = 500,\n",
    "                                                     varThreshold = 16,\n",
    "                                                     detectShadows = True )"
   ]
  },
  {
   "cell_type": "markdown",
   "id": "0a539248",
   "metadata": {},
   "source": [
    "Now, the algorithm will read the input video frame-by-frame, and apply background subtraction to extract the moving objects."
   ]
  }
 ],
 "metadata": {
  "kernelspec": {
   "display_name": "Python 3 (ipykernel)",
   "language": "python",
   "name": "python3"
  },
  "language_info": {
   "codemirror_mode": {
    "name": "ipython",
    "version": 3
   },
   "file_extension": ".py",
   "mimetype": "text/x-python",
   "name": "python",
   "nbconvert_exporter": "python",
   "pygments_lexer": "ipython3",
   "version": "3.11.4"
  }
 },
 "nbformat": 4,
 "nbformat_minor": 5
}
