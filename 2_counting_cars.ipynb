{
 "cells": [
  {
   "cell_type": "markdown",
   "id": "a150c623",
   "metadata": {},
   "source": [
    "# Ex 1.2 Counting Cars\n",
    "This task focuses on developing a computer vision application for counting the number of cars going from the city's downtown to the city centre in peak hours. It will be a progression to task 1.1 which uses the OpenCV library, and is based on frame differencing and background subtraction techniques."
   ]
  },
  {
   "cell_type": "code",
   "execution_count": 1,
   "id": "0d10fc1b",
   "metadata": {},
   "outputs": [],
   "source": [
    "import sys\n",
    "import cv2"
   ]
  },
  {
   "cell_type": "code",
   "execution_count": 3,
   "id": "ca32e850",
   "metadata": {},
   "outputs": [
    {
     "name": "stdout",
     "output_type": "stream",
     "text": [
      "Successfully opened video.\n"
     ]
    }
   ],
   "source": [
    "# loading the video file\n",
    "vid_path = \"media/Traffic_Laramie_1.mp4\"\n",
    "video = cv2.VideoCapture(vid_path)\n",
    "\n",
    "# checking if video is opened successfully\n",
    "if not video.isOpened(): print(\"Error: Could not open video.\")\n",
    "else: print(\"Successfully opened video.\")\n",
    "#create an instance of type K-nearest neighbours background subtraction\n",
    "backSub = cv2.createBackgroundSubtractorKNN(detectShadows = False)\n",
    "\n",
    "# # Read until video is completed or we press 'q'\n",
    "while True:\n",
    "    # Capture frame-by-frame\n",
    "    # Note that VideoCapture captures the frames of a video without considering the fps of the video\n",
    "    check, frame = video.read()\n",
    "    \n",
    "    if check == False:\n",
    "        break;\n",
    "        \n",
    "    #calculate the foreground mask - this is the frame difference between the original frame and the calculated background\n",
    "    fgMask = backSub.apply(frame)\n",
    "    \n",
    "    # Dilate and erode to get object blobs\n",
    "    fgMask = cv2.dilate(fgMask, None, 18)\n",
    "    fgMask = cv2.erode(fgMask, None, 10)\n",
    "    \n",
    "    # The difference (the delta_frame) is converted into a binary image\n",
    "    # If a particular pixel value is greater than a certain threshold (specified by us here as 150),\n",
    "    # it will be assigned the value for White (255) else Black(0)\n",
    "    # Important: you may have to change the threshold value for a better performance with your webcam , room's light, etc.\n",
    "    threshold_frame=cv2.threshold(fgMask, 100, 255, cv2.THRESH_BINARY)[1]\n",
    "    \n",
    "    \n",
    "\n",
    "    # The cv2.findContours() method we will identify all the contours in our image.\n",
    "    # This method expects 3 parameters, (a) image, (b) contour retrieval mode and\n",
    "    # (c) contour approximation method\n",
    "    (contours,_)=cv2.findContours(threshold_frame,cv2.RETR_EXTERNAL,cv2.CHAIN_APPROX_SIMPLE)\n",
    "\n",
    "    \n",
    "    for c in contours:\n",
    "        # contourArea() method filters out any small contours\n",
    "        (x, y, w, h)=cv2.boundingRect(c)\n",
    "        #filter out contours with a form factor that identifies human shapes\n",
    "        if (h/w > 1.5)  | (cv2.contourArea(c) < 500):\n",
    "            continue\n",
    "        #draw a rectangle around the bounding box\n",
    "        cv2.rectangle(frame, (x, y), (x+w, y+h), (0,255,0), 1)\n",
    "    \n",
    "\n",
    "    #Show frames on screen\n",
    "    if check == True:\n",
    "        cv2.imshow('Webcam', frame)  \n",
    "        cv2.imshow('Threshold frame', threshold_frame)\n",
    "        cv2.imshow('FG Mask', fgMask)\n",
    "        if cv2.waitKey(1) & 0xFF == ord(\"q\"):\n",
    "            break\n",
    "    \n",
    "    else:\n",
    "        break\n",
    "\n",
    "# After the loop release the video object\n",
    "video.release()\n",
    "\n",
    "# Destroy all the windows\n",
    "cv2.destroyAllWindows()"
   ]
  }
 ],
 "metadata": {
  "kernelspec": {
   "display_name": "Python 3 (ipykernel)",
   "language": "python",
   "name": "python3"
  },
  "language_info": {
   "codemirror_mode": {
    "name": "ipython",
    "version": 3
   },
   "file_extension": ".py",
   "mimetype": "text/x-python",
   "name": "python",
   "nbconvert_exporter": "python",
   "pygments_lexer": "ipython3",
   "version": "3.11.4"
  }
 },
 "nbformat": 4,
 "nbformat_minor": 5
}
